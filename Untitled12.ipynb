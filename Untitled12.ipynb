{
 "cells": [
  {
   "cell_type": "code",
   "execution_count": 62,
   "id": "ed983dce",
   "metadata": {},
   "outputs": [
    {
     "name": "stdout",
     "output_type": "stream",
     "text": [
      "0.9644196809962268\n",
      "Mean squared error (MSE): 0.11\n",
      "Coefficient of determination (R^2): 0.79\n"
     ]
    }
   ],
   "source": [
    "import pandas as pd\n",
    "import numpy as np\n",
    "import sklearn\n",
    "\n",
    "\n",
    "\n",
    "from sklearn.ensemble import RandomForestRegressor\n",
    "\n",
    "\n",
    "# Define the URL of the raw dataset on GitHub\n",
    "url = \"https://github.com/arashtayyebi/ss/raw/main/UND%20Data9.XLSX\"\n",
    "\n",
    "# Load the dataset from the URL\n",
    "df = pd.read_excel(url)\n",
    "\n",
    "#df = pd.read_excel('C:/Users/arash.tayyebi/Desktop/scale/data/done/UND Data9.xlsx')\n",
    "\n",
    "Y = df.iloc[:,19:31]\n",
    "\n",
    "X = df.iloc[:,0:19]\n",
    "\n",
    "#data split\n",
    "from sklearn.model_selection import train_test_split\n",
    "X_train, X_test, Y_train, Y_test = train_test_split(X, Y, test_size=0.2,random_state=991)\n",
    "#test size is 20% and traing size is 80%\n",
    "#linear regression\n",
    "from sklearn import linear_model\n",
    "from sklearn.linear_model import LinearRegression\n",
    "from sklearn.metrics import mean_squared_error, r2_score\n",
    "model = RandomForestRegressor(n_estimators=100, random_state=42)\n",
    "model.fit(X_train, Y_train)\n",
    "\n",
    "print (model.score(X_train, Y_train))\n",
    "\n",
    "Y_pred_test = model.predict(X_test)\n",
    "print('Mean squared error (MSE): %.2f'\n",
    "      % mean_squared_error(Y_test, Y_pred_test,squared=False))\n",
    "print('Coefficient of determination (R^2): %.2f'\n",
    "      % r2_score(Y_test, Y_pred_test))\n",
    "\n",
    "import pickle\n",
    "pickle.dump(model, open('model19x11y.pkl','wb'))\n",
    "#\n",
    "#model=pickle.load (open('model.pkl','rb'))\n",
    "#print (model.predict([[6.14,9.385,500,391.6,17.5,337.233,14970,1674280,204.3,6605,1727,13.38,83500,5.745,116.9,350.7,54.21,1089,14.85\n",
    "#]]))"
   ]
  },
  {
   "cell_type": "code",
   "execution_count": 61,
   "id": "4c44b877",
   "metadata": {},
   "outputs": [
    {
     "name": "stdout",
     "output_type": "stream",
     "text": [
      "[[-0.4023  0.3512  1.618   0.492   0.2895 -0.1858  0.0132  3.5576  2.1434\n",
      "  -0.3744  4.0308]]\n"
     ]
    },
    {
     "name": "stderr",
     "output_type": "stream",
     "text": [
      "C:\\Users\\arash.tayyebi\\anaconda2\\lib\\site-packages\\sklearn\\base.py:439: UserWarning: X does not have valid feature names, but RandomForestRegressor was fitted with feature names\n",
      "  warnings.warn(\n"
     ]
    }
   ],
   "source": [
    "print (model.predict([[6.14,9.385,391.6,17.5,337.233,14970,1674280,0,204.3,6605,1727,13.38,83500,5.745,116.9,350.7,54.21,1089,14.85]]))"
   ]
  },
  {
   "cell_type": "code",
   "execution_count": null,
   "id": "eb986209",
   "metadata": {},
   "outputs": [],
   "source": []
  },
  {
   "cell_type": "code",
   "execution_count": null,
   "id": "33d727a0",
   "metadata": {},
   "outputs": [],
   "source": []
  },
  {
   "cell_type": "code",
   "execution_count": null,
   "id": "db85c672",
   "metadata": {},
   "outputs": [],
   "source": []
  }
 ],
 "metadata": {
  "kernelspec": {
   "display_name": "Python 3 (ipykernel)",
   "language": "python",
   "name": "python3"
  },
  "language_info": {
   "codemirror_mode": {
    "name": "ipython",
    "version": 3
   },
   "file_extension": ".py",
   "mimetype": "text/x-python",
   "name": "python",
   "nbconvert_exporter": "python",
   "pygments_lexer": "ipython3",
   "version": "3.9.12"
  }
 },
 "nbformat": 4,
 "nbformat_minor": 5
}
